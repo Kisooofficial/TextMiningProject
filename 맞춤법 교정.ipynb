{
 "cells": [
  {
   "cell_type": "code",
   "execution_count": 1,
   "id": "e8faa0f1",
   "metadata": {},
   "outputs": [
    {
     "name": "stdout",
     "output_type": "stream",
     "text": [
      "Collecting py-hanspell\n",
      "  Using cached py-hanspell-1.1.tar.gz (3.0 kB)\n",
      "  Preparing metadata (setup.py): started\n",
      "  Preparing metadata (setup.py): finished with status 'error'\n"
     ]
    },
    {
     "name": "stderr",
     "output_type": "stream",
     "text": [
      "  error: subprocess-exited-with-error\n",
      "  \n",
      "  python setup.py egg_info did not run successfully.\n",
      "  exit code: 1\n",
      "  \n",
      "  [6 lines of output]\n",
      "  Traceback (most recent call last):\n",
      "    File \"<string>\", line 2, in <module>\n",
      "    File \"<pip-setuptools-caller>\", line 34, in <module>\n",
      "    File \"C:\\Users\\revol\\AppData\\Local\\Temp\\pip-install-0g0cesx2\\py-hanspell_0da0dbe06627498880a336c8cc1fe004\\setup.py\", line 2, in <module>\n",
      "      from pip.req import parse_requirements\n",
      "  ModuleNotFoundError: No module named 'pip.req'\n",
      "  [end of output]\n",
      "  \n",
      "  note: This error originates from a subprocess, and is likely not a problem with pip.\n",
      "error: metadata-generation-failed\n",
      "\n",
      "Encountered error while generating package metadata.\n",
      "\n",
      "See above for output.\n",
      "\n",
      "note: This is an issue with the package mentioned above, not pip.\n",
      "hint: See above for details.\n"
     ]
    }
   ],
   "source": []
  },
  {
   "cell_type": "code",
   "execution_count": 78,
   "id": "e438201a",
   "metadata": {},
   "outputs": [
    {
     "data": {
      "text/plain": [
       "(87398, 4)"
      ]
     },
     "execution_count": 78,
     "metadata": {},
     "output_type": "execute_result"
    }
   ],
   "source": [
    "# import numpy as np\n",
    "import pandas as pd\n",
    "import matplotlib.pyplot as plt\n",
    "import seaborn as sns\n",
    "%matplotlib inline\n",
    "\n",
    "df = pd.read_csv('item_data.csv')\n",
    "df.shape"
   ]
  },
  {
   "cell_type": "code",
   "execution_count": 79,
   "id": "ff884bd6",
   "metadata": {},
   "outputs": [],
   "source": [
    "df.drop(['Unnamed: 0'], axis = 1, inplace = True)"
   ]
  },
  {
   "cell_type": "code",
   "execution_count": 80,
   "id": "dce0fea7",
   "metadata": {},
   "outputs": [],
   "source": [
    "df = df.drop_duplicates().reset_index().drop(['index'], axis = 1)"
   ]
  },
  {
   "cell_type": "code",
   "execution_count": 81,
   "id": "da6c9513",
   "metadata": {},
   "outputs": [
    {
     "data": {
      "image/png": "[encoded data removed]",
      "text/plain": [
       "<Figure size 432x288 with 1 Axes>"
      ]
     },
     "metadata": {
      "needs_background": "light"
     },
     "output_type": "display_data"
    }
   ],
   "source": [
    "sns.barplot(x = df['rates'].value_counts().index, y = df['rates'].value_counts())\n",
    "\n",
    "df['label'] = df['rates'].apply(lambda x : (1 if x >= 4 else 0))"
   ]
  },
  {
   "cell_type": "code",
   "execution_count": 82,
   "id": "e5232af3",
   "metadata": {},
   "outputs": [
    {
     "data": {
      "text/plain": [
       "1    64407\n",
       "0    10125\n",
       "Name: label, dtype: int64"
      ]
     },
     "execution_count": 82,
     "metadata": {},
     "output_type": "execute_result"
    }
   ],
   "source": [
    "df['label'].value_counts()"
   ]
  },
  {
   "cell_type": "code",
   "execution_count": 83,
   "id": "e2186f99",
   "metadata": {},
   "outputs": [
    {
     "name": "stdout",
     "output_type": "stream",
     "text": [
      "너네 0\n",
      "집에 0\n",
      "가도 1\n",
      "돼? 1\n"
     ]
    }
   ],
   "source": [
    "from hanspell import spell_checker\n",
    "result = spell_checker.check(u'너네 집에 가도 되?')\n",
    "\n",
    "for key, value in result.words.items():\n",
    "    print(key, value)\n",
    "    \n",
    "# 0 : 문제 없음, 1 : 맞춤법 틀림, 2 : 띄어쓰기 틀림, 3 : 표준어 아님, 4 : 통계적 교정\n"
   ]
  },
  {
   "cell_type": "code",
   "execution_count": 84,
   "id": "54d7db22",
   "metadata": {},
   "outputs": [
    {
     "name": "stdout",
     "output_type": "stream",
     "text": [
      "['안녕 하세요.', ' 저는 한국인 입니다.', '']\n",
      "안녕 하세요.\n",
      " 저는 한국인 입니다.\n",
      "\n",
      "True\n"
     ]
    }
   ],
   "source": [
    "from hanspell import spell_checker\n",
    "\n",
    "input = u'안녕 하세요. 저는 한국인 입니다.'\n",
    " \n",
    "input_convert = input.replace('.','.#').split('#')\n",
    " \n",
    "input_list =  [\"\"]\n",
    "print(input_convert)\n",
    "for i in input_convert:\n",
    "    print(i)\n",
    "    if len(input_list[-1]) + len(i) < 500:\n",
    "        input_list[-1] += i\n",
    "    else:\n",
    "        input_list.append(i)  \n",
    "result = spell_checker.check(input_list)\n",
    " \n",
    "print(result[0].result)"
   ]
  },
  {
   "cell_type": "code",
   "execution_count": 85,
   "id": "073654ab",
   "metadata": {},
   "outputs": [
    {
     "name": "stdout",
     "output_type": "stream",
     "text": [
      "0\n",
      "1\n",
      "2\n"
     ]
    }
   ],
   "source": [
    "from hanspell.constants import CheckResult\n",
    "\n",
    "print(CheckResult.PASSED)\n",
    "print(CheckResult.WRONG_SPELLING)\n",
    "print(CheckResult.WRONG_SPACING)"
   ]
  },
  {
   "cell_type": "code",
   "execution_count": 86,
   "id": "496c976d",
   "metadata": {},
   "outputs": [
    {
     "data": {
      "text/plain": [
       "<AxesSubplot:>"
      ]
     },
     "execution_count": 86,
     "metadata": {},
     "output_type": "execute_result"
    },
    {
     "data": {
      "image/png": "[encoded data removed]",
      "text/plain": [
       "<Figure size 432x288 with 1 Axes>"
      ]
     },
     "metadata": {
      "needs_background": "light"
     },
     "output_type": "display_data"
    }
   ],
   "source": [
    "df['review'].astype(str).map(len).plot()"
   ]
  },
  {
   "cell_type": "code",
   "execution_count": 87,
   "id": "129c32ed",
   "metadata": {},
   "outputs": [
    {
     "data": {
      "text/plain": [
       "0        와대박입니다 여러분 절대 혼자 조립하지 마세요 제가 나름 이런거 조립에는 곧잘하는데...\n",
       "1        배송은 빨랐고 조립하는 게 되게 체계적으로 돼있어서 놀랐어요. 내부 공간은 넓은데 ...\n",
       "2                           조립도 너무 쉽게했고 가격대비 괜찮은 것 같습니다! 🙂\n",
       "3        음 겉보기만 이쁩니다 오늘의 집에서 구입한것중 가장 후회해요 이유는 서랍이 잘 안열...\n",
       "4        예뻐요 조립이 첨엔 어려울까 싶어서 걱정했는데 하다보니 할만해요 ~ 크고 좋으네요 ...\n",
       "                               ...                        \n",
       "74527                             한쪽 면이 찌그러져 왔지만 그래도 좋았습니다\n",
       "74528    그레이랑 화이트 컬러 샀는데 그레이가 생각보다 톤 다운된 그레이라 너무 이뻐요! 화...\n",
       "74529                 잘쓰고 있어요. 오램만에 어플키니 리부 남겨라하네요 ㅋㅋㅋ 좋아요\n",
       "74530    올려놓는 선반 부분이 힘이없다보니까 가벼운 물건 올려놓으면 지탱하는게 위태위태해보이...\n",
       "74531    깔끔한 디자인으로 어디에 놓아도 이뻐요 근데 밑에 받침? 끼워넣는게 힘이 오지게 필...\n",
       "Name: review, Length: 74532, dtype: object"
      ]
     },
     "execution_count": 87,
     "metadata": {},
     "output_type": "execute_result"
    }
   ],
   "source": [
    "df['review']"
   ]
  },
  {
   "cell_type": "code",
   "execution_count": 89,
   "id": "07ded2f0",
   "metadata": {},
   "outputs": [
    {
     "name": "stderr",
     "output_type": "stream",
     "text": [
      "tqdm example: 100%|████████████████████████████████████████████████████████████| 74532/74532 [1:58:56<00:00, 10.44it/s]\n"
     ]
    }
   ],
   "source": [
    "from tqdm import tqdm\n",
    "import time\n",
    "\n",
    "text = df['review']\n",
    "\n",
    "for i in tqdm(range(len(df['review'])), desc = 'tqdm example', mininterval = 0.01):\n",
    "    try:\n",
    "        inspect_text = df['review'][i]\n",
    "        correct_text = spell_checker.check(inspect_text).checked\n",
    "        df.loc[i, 'review'] = correct_text\n",
    "    except:\n",
    "        pass"
   ]
  },
  {
   "cell_type": "code",
   "execution_count": 93,
   "id": "4171f36f",
   "metadata": {},
   "outputs": [],
   "source": [
    "df.to_csv('item_data_fixspell.csv')"
   ]
  }
 ],
 "metadata": {
  "kernelspec": {
   "display_name": "Python 3 (ipykernel)",
   "language": "python",
   "name": "python3"
  },
  "language_info": {
   "codemirror_mode": {
    "name": "ipython",
    "version": 3
   },
   "file_extension": ".py",
   "mimetype": "text/x-python",
   "name": "python",
   "nbconvert_exporter": "python",
   "pygments_lexer": "ipython3",
   "version": "3.9.7"
  }
 },
 "nbformat": 4,
 "nbformat_minor": 5
}
