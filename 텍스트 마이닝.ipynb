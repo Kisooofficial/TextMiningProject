{
 "cells": [
  {
   "cell_type": "code",
   "execution_count": 1,
   "id": "c75839af",
   "metadata": {},
   "outputs": [
    {
     "name": "stdout",
     "output_type": "stream",
     "text": [
      "Requirement already satisfied: selenium in c:\\users\\revol\\anaconda3\\lib\\site-packages (4.1.2)\n",
      "Requirement already satisfied: trio~=0.17 in c:\\users\\revol\\anaconda3\\lib\\site-packages (from selenium) (0.20.0)\n",
      "Requirement already satisfied: trio-websocket~=0.9 in c:\\users\\revol\\anaconda3\\lib\\site-packages (from selenium) (0.9.2)\n",
      "Requirement already satisfied: urllib3[secure,socks]~=1.26 in c:\\users\\revol\\anaconda3\\lib\\site-packages (from selenium) (1.26.7)\n",
      "Requirement already satisfied: cffi>=1.14 in c:\\users\\revol\\anaconda3\\lib\\site-packages (from trio~=0.17->selenium) (1.14.6)\n",
      "Requirement already satisfied: outcome in c:\\users\\revol\\anaconda3\\lib\\site-packages (from trio~=0.17->selenium) (1.1.0)\n",
      "Requirement already satisfied: sortedcontainers in c:\\users\\revol\\anaconda3\\lib\\site-packages (from trio~=0.17->selenium) (2.4.0)\n",
      "Requirement already satisfied: sniffio in c:\\users\\revol\\anaconda3\\lib\\site-packages (from trio~=0.17->selenium) (1.2.0)\n",
      "Requirement already satisfied: attrs>=19.2.0 in c:\\users\\revol\\anaconda3\\lib\\site-packages (from trio~=0.17->selenium) (21.2.0)\n",
      "Requirement already satisfied: idna in c:\\users\\revol\\anaconda3\\lib\\site-packages (from trio~=0.17->selenium) (3.2)\n",
      "Requirement already satisfied: async-generator>=1.9 in c:\\users\\revol\\anaconda3\\lib\\site-packages (from trio~=0.17->selenium) (1.10)\n",
      "Requirement already satisfied: wsproto>=0.14 in c:\\users\\revol\\anaconda3\\lib\\site-packages (from trio-websocket~=0.9->selenium) (1.1.0)\n",
      "Requirement already satisfied: PySocks!=1.5.7,<2.0,>=1.5.6 in c:\\users\\revol\\anaconda3\\lib\\site-packages (from urllib3[secure,socks]~=1.26->selenium) (1.7.1)\n",
      "Requirement already satisfied: pyOpenSSL>=0.14 in c:\\users\\revol\\anaconda3\\lib\\site-packages (from urllib3[secure,socks]~=1.26->selenium) (21.0.0)\n",
      "Requirement already satisfied: cryptography>=1.3.4 in c:\\users\\revol\\anaconda3\\lib\\site-packages (from urllib3[secure,socks]~=1.26->selenium) (3.4.8)\n",
      "Requirement already satisfied: certifi in c:\\users\\revol\\anaconda3\\lib\\site-packages (from urllib3[secure,socks]~=1.26->selenium) (2021.10.8)\n",
      "Requirement already satisfied: pycparser in c:\\users\\revol\\anaconda3\\lib\\site-packages (from cffi>=1.14->trio~=0.17->selenium) (2.20)\n",
      "Requirement already satisfied: six>=1.5.2 in c:\\users\\revol\\anaconda3\\lib\\site-packages (from pyOpenSSL>=0.14->urllib3[secure,socks]~=1.26->selenium) (1.16.0)\n",
      "Requirement already satisfied: h11<1,>=0.9.0 in c:\\users\\revol\\anaconda3\\lib\\site-packages (from wsproto>=0.14->trio-websocket~=0.9->selenium) (0.13.0)\n"
     ]
    },
    {
     "name": "stderr",
     "output_type": "stream",
     "text": [
      "WARNING: You are using pip version 22.0.3; however, version 22.1.1 is available.\n",
      "You should consider upgrading via the 'C:\\Users\\revol\\anaconda3\\python.exe -m pip install --upgrade pip' command.\n"
     ]
    }
   ],
   "source": [
    "!pip install selenium"
   ]
  },
  {
   "cell_type": "code",
   "execution_count": 33,
   "id": "bebb2446",
   "metadata": {},
   "outputs": [],
   "source": [
    "from selenium import webdriver\n",
    "from selenium.webdriver.common.by import By \n",
    "from selenium.webdriver.support.ui import WebDriverWait \n",
    "from selenium.webdriver.support import expected_conditions as EC\n",
    "from bs4 import BeautifulSoup\n",
    "from selenium.webdriver.common.keys import Keys\n",
    "from selenium import webdriver as wd\n",
    "import time \n",
    "import re \n",
    "import json \n",
    "import pandas as pd"
   ]
  },
  {
   "cell_type": "code",
   "execution_count": 34,
   "id": "4e996c9b",
   "metadata": {},
   "outputs": [
    {
     "name": "stderr",
     "output_type": "stream",
     "text": [
      "C:\\Users\\revol\\AppData\\Local\\Temp/ipykernel_7368/4199501964.py:1: DeprecationWarning: executable_path has been deprecated, please pass in a Service object\n",
      "  driver = wd.Chrome(executable_path = \"chromedriver.exe\")\n"
     ]
    }
   ],
   "source": [
    "driver = wd.Chrome(executable_path = \"chromedriver.exe\")\n",
    "url = \"https://ohou.se/\"\n",
    "driver.get(url)"
   ]
  },
  {
   "cell_type": "code",
   "execution_count": 35,
   "id": "a189be61",
   "metadata": {},
   "outputs": [
    {
     "name": "stderr",
     "output_type": "stream",
     "text": [
      "C:\\Users\\revol\\AppData\\Local\\Temp/ipykernel_7368/469155439.py:1: DeprecationWarning: find_element_by_xpath is deprecated. Please use find_element(by=By.XPATH, value=xpath) instead\n",
      "  store_move_button = driver.find_element_by_xpath('/html/body/div[1]/div/div/header/div[1]/div/div/nav/a[2]')\n",
      "C:\\Users\\revol\\AppData\\Local\\Temp/ipykernel_7368/469155439.py:4: DeprecationWarning: find_element_by_css_selector is deprecated. Please use find_element(by=By.CSS_SELECTOR, value=css_selector) instead\n",
      "  category_move_button = driver.find_element_by_css_selector('body > div.page > div > div > header > div.layout-navigation-secondary-wrap > div > div > nav > a.layout-navigation-secondary__menu__item.hide-mobile')\n",
      "C:\\Users\\revol\\AppData\\Local\\Temp/ipykernel_7368/469155439.py:7: DeprecationWarning: find_element_by_css_selector is deprecated. Please use find_element(by=By.CSS_SELECTOR, value=css_selector) instead\n",
      "  filter_click_button = driver.find_element_by_css_selector('body > div.page > div > div > div.category-feed-container > div > div > div.category-feed__content.col-12.col-md-9 > div.category-feed__content__filter > div > div > div > div.css-1uv28lx.e1dxjhw58 > div > div:nth-child(1) > div > button')\n",
      "C:\\Users\\revol\\AppData\\Local\\Temp/ipykernel_7368/469155439.py:10: DeprecationWarning: find_element_by_xpath is deprecated. Please use find_element(by=By.XPATH, value=xpath) instead\n",
      "  review_click_button = driver.find_element_by_xpath('/html/body/div[7]/div/div/div/ul/li[5]/button')\n"
     ]
    }
   ],
   "source": [
    "store_move_button = driver.find_element_by_xpath('/html/body/div[1]/div/div/header/div[1]/div/div/nav/a[2]')\n",
    "store_move_button.click()\n",
    "time.sleep(1)\n",
    "category_move_button = driver.find_element_by_css_selector('body > div.page > div > div > header > div.layout-navigation-secondary-wrap > div > div > nav > a.layout-navigation-secondary__menu__item.hide-mobile')\n",
    "category_move_button.click()\n",
    "time.sleep(1)"
   ]
  },
  {
   "cell_type": "code",
   "execution_count": 13,
   "id": "ccd99b08",
   "metadata": {},
   "outputs": [],
   "source": [
    "html = driver.page_source\n",
    "soup = BeautifulSoup(html, \"html.parser\")\n",
    "review = soup.find_all('div', class_ = 'production-item__content')"
   ]
  },
  {
   "cell_type": "code",
   "execution_count": 14,
   "id": "b51244d3",
   "metadata": {},
   "outputs": [],
   "source": [
    "html = driver.page_source\n",
    "soup = BeautifulSoup(html, \"html.parser\")"
   ]
  },
  {
   "cell_type": "code",
   "execution_count": 37,
   "id": "1daa1e4a",
   "metadata": {},
   "outputs": [
    {
     "name": "stderr",
     "output_type": "stream",
     "text": [
      "C:\\Users\\revol\\AppData\\Local\\Temp/ipykernel_7368/1061304483.py:6: DeprecationWarning: find_element_by_class_name is deprecated. Please use find_element(by=By.CLASS_NAME, value=name) instead\n",
      "  search_form = driver.find_element_by_class_name('layout-navigation-search__input__text')\n",
      "C:\\Users\\revol\\AppData\\Local\\Temp/ipykernel_7368/1061304483.py:10: DeprecationWarning: find_element_by_xpath is deprecated. Please use find_element(by=By.XPATH, value=xpath) instead\n",
      "  search_button = driver.find_element_by_xpath('/html/body/div[1]/div/div/header/div[1]/div/div/div[3]/div[1]/div/div[2]/ul/li[1]')\n"
     ]
    }
   ],
   "source": [
    "search_form = driver.find_element_by_class_name('layout-navigation-search__input__text')\n",
    "search_form.send_keys('자취')\n",
    "time.sleep(5)\n",
    "\n",
    "search_button = driver.find_element_by_xpath('/html/body/div[1]/div/div/header/div[1]/div/div/div[3]/div[1]/div/div[2]/ul/li[1]')\n",
    "search_button.click()\n",
    "time.sleep(6)"
   ]
  },
  {
   "cell_type": "code",
   "execution_count": 42,
   "id": "53b85024",
   "metadata": {},
   "outputs": [
    {
     "name": "stderr",
     "output_type": "stream",
     "text": [
      "C:\\Users\\revol\\AppData\\Local\\Temp/ipykernel_7368/2564695559.py:1: DeprecationWarning: find_element_by_class_name is deprecated. Please use find_element(by=By.CLASS_NAME, value=name) instead\n",
      "  filter_click_button = driver.find_element_by_class_name('category-filter-bar-order-button')\n",
      "C:\\Users\\revol\\AppData\\Local\\Temp/ipykernel_7368/2564695559.py:4: DeprecationWarning: find_element_by_xpath is deprecated. Please use find_element(by=By.XPATH, value=xpath) instead\n",
      "  review_click_button = driver.find_element_by_xpath('/html/body/div[7]/div/div/div/ul/li[6]/button')\n"
     ]
    }
   ],
   "source": [
    "filter_click_button = driver.find_element_by_class_name('category-filter-bar-order-button')\n",
    "filter_click_button.click()\n",
    "time.sleep(1)\n",
    "review_click_button = driver.find_element_by_xpath('/html/body/div[7]/div/div/div/ul/li[6]/button')\n",
    "review_click_button.click()\n",
    "time.sleep(1)"
   ]
  },
  {
   "cell_type": "code",
   "execution_count": 61,
   "id": "3b705c1e",
   "metadata": {},
   "outputs": [
    {
     "name": "stdout",
     "output_type": "stream",
     "text": [
      "20\n"
     ]
    },
    {
     "name": "stderr",
     "output_type": "stream",
     "text": [
      "C:\\Users\\revol\\AppData\\Local\\Temp/ipykernel_7368/710523114.py:7: DeprecationWarning: find_element_by_* commands are deprecated. Please use find_element() instead\n",
      "  class_list = driver.find_element_by_id('product-651554')\n"
     ]
    },
    {
     "name": "stdout",
     "output_type": "stream",
     "text": [
      "1\n",
      "1\n",
      "0번째 리뷰의 항목 : [7%쿠폰]HEIN 옷장 4문 120195 3colors\n",
      "캄포어베니어 9495.2844, 별점 : 2.3, 리뷰의 내용 : 와대박입니다 여러분 절대 혼자 조립하지 마세요 제가 나름 이런거 조립에는 곧잘하는데 이거 절대 일반 남성분 혼자 절대 못합니다 조립 자체가 어렵다기보다 무게랑 크기때문이기도 하고 거짓말 조금보태서 솜사탕처럼 약합니다 잘끼워지지가 않고 살짝 쳐도 조립한것들이 다 빠져버립니다 제가 몇번이고 해도 그렇습니다 진짜 구매하실분은 필이 고려하세요 디자인빼고 볼거하나도 없습니다 혹여나 이사하실때 못들고 갑니다 들다가 다부서져요ㅋㅋㅋ 이런옷장은 첨입니다 마켓비 대단하네요 중국도 이거보단 잘만들지 싶어요 옷장이 이렇게 안견고하다니 이런걸 파는거 또한 대단합니다 진짜 여러분 꼭 다른걸 사시는걸 추천드립니다 조립 7시간 걸렸습니다 성인남자 혼자 했습니다 아그리고 조립전에도 낱개로도 텅빈깡통입니다 안에가 텅비어 있어서 좀 누르면 그냥 부서집니다 과자마냥 바삭하네요ㅋㅋ 조립하다 조심하면서 했는데도 두군데 내려 앉았습니다 관계자분들은 제발 변명이라도 해보세요\n",
      "1번째 리뷰의 항목 : [7%쿠폰]POLABO 미니수납장 넓은 2문 SHM4262SL\n",
      "캄포어베니어 3859.3814, 별점 : 4.3, 리뷰의 내용 : 배송은 빨랐고 조립하는 게 되게 체계적으로 돼있어서 놀랐어요. 내부 공간은 넓은데 생각보다는 사용이 불편해서 문짝을 떼버릴까 생각이 됩니다. 유리부분이 예쁠줄 알았는데 생각보다는 조금..? 접착제로 붙이고 하는 부분이 있어서 건강에 안좋을 거 같기도 하고.. 이래저래 아쉬움은 있지만 컵 둘 공간이 없어서 산 거라 그럭저럭 잘 쓰고 있습니다.\n"
     ]
    },
    {
     "name": "stderr",
     "output_type": "stream",
     "text": [
      "C:\\Users\\revol\\AppData\\Local\\Temp/ipykernel_7368/710523114.py:43: DeprecationWarning: find_element_by_xpath is deprecated. Please use find_element(by=By.XPATH, value=xpath) instead\n",
      "  review_comment = driver.find_element_by_xpath(review_xpath)\n",
      "C:\\Users\\revol\\AppData\\Local\\Temp/ipykernel_7368/710523114.py:44: DeprecationWarning: find_element_by_xpath is deprecated. Please use find_element(by=By.XPATH, value=xpath) instead\n",
      "  score = driver.find_element_by_xpath(score_xpath)\n",
      "C:\\Users\\revol\\AppData\\Local\\Temp/ipykernel_7368/710523114.py:45: DeprecationWarning: find_element_by_xpath is deprecated. Please use find_element(by=By.XPATH, value=xpath) instead\n",
      "  product = driver.find_element_by_xpath(production_xpath).text\n"
     ]
    },
    {
     "name": "stdout",
     "output_type": "stream",
     "text": [
      "2번째 리뷰의 항목 : [7%쿠폰]FIHA 서랍장 4.1단 6colors\n",
      "화이트 2981.3310, 별점 : 5.0, 리뷰의 내용 : 조립도 너무 쉽게했고 가격대비 괜찮은 것 같습니다! 🙂\n",
      "3번째 리뷰의 항목 : [7%쿠폰]FIHA 서랍장 5단 6colors\n",
      "화이트 2269.3022, 별점 : 1.8, 리뷰의 내용 : 음 겉보기만 이쁩니다 오늘의 집에서 구입한것중 가장 후회해요 이유는 서랍이 잘 안열립니다 안닫힙니다 ㅜㅜ 열고 닫을때 도파민 나와요 바퀴는 달려있는데 서랍이 뻑뻑하다고 해보세요 ㅜㅜ 서랍은 무조건 레일이 부드러운게 최고\n",
      "4번째 리뷰의 항목 : [7%쿠폰]POLABO 미니수납장 넓은 2문 SHM4262SL\n",
      "캄포어베니어 3859.3814, 별점 : 5.0, 리뷰의 내용 : 예뻐요 조립이 첨엔 어려울까 싶어서 걱정했는데 하다보니 할만해요 ~ 크고 좋으네요 잘쓸게여\n",
      "5번째 리뷰의 항목 : [7%쿠폰]POLABO 미니수납장 넓은 2문 SHM4262SL\n",
      "미들브라운 6098.3197, 별점 : 4.8, 리뷰의 내용 : 설명서도 잘되어있고 부속품들도 세심하게 알아보기 쉽게 너무 잘되어 있어서 조립하는게 쉽고 재밌어요~^^ 가격에 비해 착하고 예쁜상품입니다\n",
      "6번째 리뷰의 항목 : [7%쿠폰]FILMON 수납장 6문 93120 3colors\n",
      "미들브라운 6156.7313, 별점 : 4.0, 리뷰의 내용 : 배송이..저희집이 엘베없는 4층인데.. 배송전 기사님 전화하셔서는 일층까지만 배송된다고.. 헐 무겁다면서 안올려주신다고.. 그말만듣고 사다리차를 부르려했더니 사다리차 비싸다고 제가5만원에 부르겠다니 4만원만 받고 자기가 올리겠데요. 제품 조립식이란건 잊고..올려온 택배박스 보고는 어이가없어 완제품도 아니고 상자두개를 4만원은 못드리겠다하고 3만원 입금해드렸네요.완짜! 배스뜯고 조립하면서 참고로 전 여자이고 회복중인 환자입니다. 조립도면 펴놓고 조물락거리길 몇시간 ..ㅎ 이렇게 완성되었습니다. 선물받은 그림도 올려두고 티비장식장으로 수납장으로 잘쓰고 있습니다.\n",
      "7번째 리뷰의 항목 : [7%쿠폰]POLABO 미니수납장 좁은 2문 SHM4247SL\n",
      "캄포어베니어 9785.9811, 별점 : 3.5, 리뷰의 내용 : 일단 수납도 가능하니 지저분했던 곳이 정리되어 좋고 인테리어에도 굳이네요. 조립하는 게 좀 힘들었지만 혼자서 할만했고, 넘 만족해요.\n",
      "8번째 리뷰의 항목 : [7%쿠폰]POLABO 미니수납장 좁은 2문 SHM4247SL\n",
      "캄포어베니어 9785.9811, 별점 : 5.0, 리뷰의 내용 : 홈카페 용으로 만족스러워요!! 크기도 적당하고 느낌있어요!!!!!!\n",
      "9번째 리뷰의 항목 : [7%쿠폰]POLABO 미니수납장 좁은 2문 SHM4247SL\n",
      "캄포어베니어 9785.9811, 별점 : 4.5, 리뷰의 내용 : 식탁에 작은장 놓고싶어서 구매했어요 여기저기 놓아도 인테리어는 이쁠것같아요.\n",
      "1\n"
     ]
    }
   ],
   "source": [
    "import re\n",
    "count = 0\n",
    "print(len(review_box_list))\n",
    "\n",
    "html = driver.page_source\n",
    "soup = BeautifulSoup(html, \"html.parser\")\n",
    "class_list = driver.find_element_by_id('product-651554')\n",
    "\n",
    "try:\n",
    "    #name = review_box.find('span', class_ = 'production-item__header__brand').text\n",
    "    #time.sleep(1)\n",
    "    #header_name = review_box.find('span', class_ = 'production-item__header__name').text\n",
    "    #time.sleep(1)\n",
    "    #price = review_box.find('span', class_ = 'production-item-price__price').text\n",
    "    #time.sleep(1)\n",
    "    #rate = review_box.find('strong', class_ = 'avg').text\n",
    "    #time.sleep(1)\n",
    "    class_list.click()\n",
    "    time.sleep(5)\n",
    "    print(1)\n",
    "except:\n",
    "    print(2)\n",
    "    pass\n",
    "\n",
    "try:\n",
    "    button_css = 'body > div.page > div > div > div.production-selling > div.sticky-container.production-selling-navigation__wrap > div > nav > ol > li:nth-child(2) > a'\n",
    "    review_button = driver.find_element(by = By.CSS_SELECTOR, value = button_css)\n",
    "    review_button.click()\n",
    "    time.sleep(3)\n",
    "    print(1)\n",
    "except:\n",
    "    print(2)\n",
    "    pass\n",
    "try:\n",
    "    for j in range(2):\n",
    "        review_container = driver.find_elements(by = By.CLASS_NAME, value = 'production-review-item__container')\n",
    "        button_class = driver.find_element(by = By.CLASS_NAME, value = '_2XI47._3I7ex')\n",
    "        for k in range(len(review_container)):\n",
    "            review_xpath = '/html/body/div[1]/div/div/div[2]/div[5]/div/div[1]/div/section[2]/div/div[3]/div['+ str(k+1) + ']/article/p'\n",
    "            score_xpath = '/html/body/div[1]/div/div/div[2]/div[5]/div/div[1]/div/section[2]/div/div[3]/div['+ str(k+1) +']/article/div[1]/div/button/span'\n",
    "            production_xpath = '/html/body/div[1]/div/div/div[2]/div[5]/div/div[1]/div/section[2]/div[2]/div[3]/div['+ str(k+1) + ']/article/div[3]'\n",
    "            \n",
    "            review_comment = driver.find_element_by_xpath(review_xpath)\n",
    "            score = driver.find_element_by_xpath(score_xpath)\n",
    "            product = driver.find_element_by_xpath(production_xpath).text\n",
    "            #review_text = driver.find_element_by_class_name('production-review-item__description').text\n",
    "            #review_writer = driver.find_element_by_class_name('production-review-item__writer__info__name').text\n",
    "            #review_score = soup.find('span', class_ = 'production-review-item__writer__info__total-star').get_attribute('aria-label')\n",
    "            #review_detail_item = driver.find_element_by_class_name('production-review-item__description').text\n",
    "            print('{0}번째 리뷰의 항목 : {1}, 별점 : {2}, 리뷰의 내용 : {3}'.format((5 * j) + k, \n",
    "                                                                      product, \n",
    "                                                                      re.sub(r'[^0-9.]', '', score.get_attribute('aria-label')), \n",
    "                                                                      review_comment.text))\n",
    "        button_class.click()\n",
    "        time.sleep(5)\n",
    "    print(1)\n",
    "except:\n",
    "    print(2)\n",
    "    pass\n",
    "    "
   ]
  }
 ],
 "metadata": {
  "kernelspec": {
   "display_name": "Python 3 (ipykernel)",
   "language": "python",
   "name": "python3"
  },
  "language_info": {
   "codemirror_mode": {
    "name": "ipython",
    "version": 3
   },
   "file_extension": ".py",
   "mimetype": "text/x-python",
   "name": "python",
   "nbconvert_exporter": "python",
   "pygments_lexer": "ipython3",
   "version": "3.9.7"
  }
 },
 "nbformat": 4,
 "nbformat_minor": 5
}
