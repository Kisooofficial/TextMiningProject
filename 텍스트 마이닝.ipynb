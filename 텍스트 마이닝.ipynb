{
 "cells": [
  {
   "cell_type": "code",
   "execution_count": 1,
   "id": "c75839af",
   "metadata": {},
   "outputs": [
    {
     "name": "stdout",
     "output_type": "stream",
     "text": [
      "Requirement already satisfied: selenium in c:\\users\\revol\\anaconda3\\lib\\site-packages (4.1.2)\n",
      "Requirement already satisfied: trio~=0.17 in c:\\users\\revol\\anaconda3\\lib\\site-packages (from selenium) (0.20.0)\n",
      "Requirement already satisfied: trio-websocket~=0.9 in c:\\users\\revol\\anaconda3\\lib\\site-packages (from selenium) (0.9.2)\n",
      "Requirement already satisfied: urllib3[secure,socks]~=1.26 in c:\\users\\revol\\anaconda3\\lib\\site-packages (from selenium) (1.26.7)\n",
      "Requirement already satisfied: cffi>=1.14 in c:\\users\\revol\\anaconda3\\lib\\site-packages (from trio~=0.17->selenium) (1.14.6)\n",
      "Requirement already satisfied: outcome in c:\\users\\revol\\anaconda3\\lib\\site-packages (from trio~=0.17->selenium) (1.1.0)\n",
      "Requirement already satisfied: sortedcontainers in c:\\users\\revol\\anaconda3\\lib\\site-packages (from trio~=0.17->selenium) (2.4.0)\n",
      "Requirement already satisfied: sniffio in c:\\users\\revol\\anaconda3\\lib\\site-packages (from trio~=0.17->selenium) (1.2.0)\n",
      "Requirement already satisfied: attrs>=19.2.0 in c:\\users\\revol\\anaconda3\\lib\\site-packages (from trio~=0.17->selenium) (21.2.0)\n",
      "Requirement already satisfied: idna in c:\\users\\revol\\anaconda3\\lib\\site-packages (from trio~=0.17->selenium) (3.2)\n",
      "Requirement already satisfied: async-generator>=1.9 in c:\\users\\revol\\anaconda3\\lib\\site-packages (from trio~=0.17->selenium) (1.10)\n",
      "Requirement already satisfied: wsproto>=0.14 in c:\\users\\revol\\anaconda3\\lib\\site-packages (from trio-websocket~=0.9->selenium) (1.1.0)\n",
      "Requirement already satisfied: PySocks!=1.5.7,<2.0,>=1.5.6 in c:\\users\\revol\\anaconda3\\lib\\site-packages (from urllib3[secure,socks]~=1.26->selenium) (1.7.1)\n",
      "Requirement already satisfied: pyOpenSSL>=0.14 in c:\\users\\revol\\anaconda3\\lib\\site-packages (from urllib3[secure,socks]~=1.26->selenium) (21.0.0)\n",
      "Requirement already satisfied: cryptography>=1.3.4 in c:\\users\\revol\\anaconda3\\lib\\site-packages (from urllib3[secure,socks]~=1.26->selenium) (3.4.8)\n",
      "Requirement already satisfied: certifi in c:\\users\\revol\\anaconda3\\lib\\site-packages (from urllib3[secure,socks]~=1.26->selenium) (2021.10.8)\n",
      "Requirement already satisfied: pycparser in c:\\users\\revol\\anaconda3\\lib\\site-packages (from cffi>=1.14->trio~=0.17->selenium) (2.20)\n",
      "Requirement already satisfied: six>=1.5.2 in c:\\users\\revol\\anaconda3\\lib\\site-packages (from pyOpenSSL>=0.14->urllib3[secure,socks]~=1.26->selenium) (1.16.0)\n",
      "Requirement already satisfied: h11<1,>=0.9.0 in c:\\users\\revol\\anaconda3\\lib\\site-packages (from wsproto>=0.14->trio-websocket~=0.9->selenium) (0.13.0)\n"
     ]
    },
    {
     "name": "stderr",
     "output_type": "stream",
     "text": [
      "WARNING: You are using pip version 22.0.3; however, version 22.1.1 is available.\n",
      "You should consider upgrading via the 'C:\\Users\\revol\\anaconda3\\python.exe -m pip install --upgrade pip' command.\n"
     ]
    }
   ],
   "source": [
    "!pip install selenium"
   ]
  },
  {
   "cell_type": "code",
   "execution_count": 33,
   "id": "bebb2446",
   "metadata": {},
   "outputs": [],
   "source": [
    "from selenium import webdriver\n",
    "from selenium.webdriver.common.by import By \n",
    "from selenium.webdriver.support.ui import WebDriverWait \n",
    "from selenium.webdriver.support import expected_conditions as EC\n",
    "from bs4 import BeautifulSoup\n",
    "from selenium.webdriver.common.keys import Keys\n",
    "from selenium import webdriver as wd\n",
    "import time \n",
    "import re \n",
    "import json \n",
    "import pandas as pd"
   ]
  },
  {
   "cell_type": "code",
   "execution_count": 34,
   "id": "4e996c9b",
   "metadata": {},
   "outputs": [
    {
     "name": "stderr",
     "output_type": "stream",
     "text": [
      "C:\\Users\\revol\\AppData\\Local\\Temp/ipykernel_7368/4199501964.py:1: DeprecationWarning: executable_path has been deprecated, please pass in a Service object\n",
      "  driver = wd.Chrome(executable_path = \"chromedriver.exe\")\n"
     ]
    }
   ],
   "source": [
    "driver = wd.Chrome(executable_path = \"chromedriver.exe\")\n",
    "url = \"https://ohou.se/\"\n",
    "driver.get(url)"
   ]
  },
  {
   "cell_type": "code",
   "execution_count": 35,
   "id": "a189be61",
   "metadata": {},
   "outputs": [
    {
     "name": "stderr",
     "output_type": "stream",
     "text": [
      "C:\\Users\\revol\\AppData\\Local\\Temp/ipykernel_7368/469155439.py:1: DeprecationWarning: find_element_by_xpath is deprecated. Please use find_element(by=By.XPATH, value=xpath) instead\n",
      "  store_move_button = driver.find_element_by_xpath('/html/body/div[1]/div/div/header/div[1]/div/div/nav/a[2]')\n",
      "C:\\Users\\revol\\AppData\\Local\\Temp/ipykernel_7368/469155439.py:4: DeprecationWarning: find_element_by_css_selector is deprecated. Please use find_element(by=By.CSS_SELECTOR, value=css_selector) instead\n",
      "  category_move_button = driver.find_element_by_css_selector('body > div.page > div > div > header > div.layout-navigation-secondary-wrap > div > div > nav > a.layout-navigation-secondary__menu__item.hide-mobile')\n",
      "C:\\Users\\revol\\AppData\\Local\\Temp/ipykernel_7368/469155439.py:7: DeprecationWarning: find_element_by_css_selector is deprecated. Please use find_element(by=By.CSS_SELECTOR, value=css_selector) instead\n",
      "  filter_click_button = driver.find_element_by_css_selector('body > div.page > div > div > div.category-feed-container > div > div > div.category-feed__content.col-12.col-md-9 > div.category-feed__content__filter > div > div > div > div.css-1uv28lx.e1dxjhw58 > div > div:nth-child(1) > div > button')\n",
      "C:\\Users\\revol\\AppData\\Local\\Temp/ipykernel_7368/469155439.py:10: DeprecationWarning: find_element_by_xpath is deprecated. Please use find_element(by=By.XPATH, value=xpath) instead\n",
      "  review_click_button = driver.find_element_by_xpath('/html/body/div[7]/div/div/div/ul/li[5]/button')\n"
     ]
    }
   ],
   "source": [
    "store_move_button = driver.find_element_by_xpath('/html/body/div[1]/div/div/header/div[1]/div/div/nav/a[2]')\n",
    "store_move_button.click()\n",
    "time.sleep(1)\n",
    "category_move_button = driver.find_element_by_css_selector('body > div.page > div > div > header > div.layout-navigation-secondary-wrap > div > div > nav > a.layout-navigation-secondary__menu__item.hide-mobile')\n",
    "category_move_button.click()\n",
    "time.sleep(1)"
   ]
  },
  {
   "cell_type": "code",
   "execution_count": 13,
   "id": "ccd99b08",
   "metadata": {},
   "outputs": [],
   "source": [
    "html = driver.page_source\n",
    "soup = BeautifulSoup(html, \"html.parser\")\n",
    "review = soup.find_all('div', class_ = 'production-item__content')"
   ]
  },
  {
   "cell_type": "code",
   "execution_count": 14,
   "id": "b51244d3",
   "metadata": {},
   "outputs": [],
   "source": [
    "html = driver.page_source\n",
    "soup = BeautifulSoup(html, \"html.parser\")"
   ]
  },
  {
   "cell_type": "code",
   "execution_count": 37,
   "id": "65de5fdf",
   "metadata": {},
   "outputs": [
    {
     "name": "stderr",
     "output_type": "stream",
     "text": [
      "C:\\Users\\revol\\AppData\\Local\\Temp/ipykernel_7368/1061304483.py:6: DeprecationWarning: find_element_by_class_name is deprecated. Please use find_element(by=By.CLASS_NAME, value=name) instead\n",
      "  search_form = driver.find_element_by_class_name('layout-navigation-search__input__text')\n",
      "C:\\Users\\revol\\AppData\\Local\\Temp/ipykernel_7368/1061304483.py:10: DeprecationWarning: find_element_by_xpath is deprecated. Please use find_element(by=By.XPATH, value=xpath) instead\n",
      "  search_button = driver.find_element_by_xpath('/html/body/div[1]/div/div/header/div[1]/div/div/div[3]/div[1]/div/div[2]/ul/li[1]')\n"
     ]
    }
   ],
   "source": [
    "search_form = driver.find_element_by_class_name('layout-navigation-search__input__text')\n",
    "search_form.send_keys('자취')\n",
    "time.sleep(5)\n",
    "\n",
    "search_button = driver.find_element_by_xpath('/html/body/div[1]/div/div/header/div[1]/div/div/div[3]/div[1]/div/div[2]/ul/li[1]')\n",
    "search_button.click()\n",
    "time.sleep(6)"
   ]
  },
  {
   "cell_type": "code",
   "execution_count": 42,
   "id": "35117e7e",
   "metadata": {},
   "outputs": [
    {
     "name": "stderr",
     "output_type": "stream",
     "text": [
      "C:\\Users\\revol\\AppData\\Local\\Temp/ipykernel_7368/2564695559.py:1: DeprecationWarning: find_element_by_class_name is deprecated. Please use find_element(by=By.CLASS_NAME, value=name) instead\n",
      "  filter_click_button = driver.find_element_by_class_name('category-filter-bar-order-button')\n",
      "C:\\Users\\revol\\AppData\\Local\\Temp/ipykernel_7368/2564695559.py:4: DeprecationWarning: find_element_by_xpath is deprecated. Please use find_element(by=By.XPATH, value=xpath) instead\n",
      "  review_click_button = driver.find_element_by_xpath('/html/body/div[7]/div/div/div/ul/li[6]/button')\n"
     ]
    }
   ],
   "source": [
    "filter_click_button = driver.find_element_by_class_name('category-filter-bar-order-button')\n",
    "filter_click_button.click()\n",
    "time.sleep(1)\n",
    "review_click_button = driver.find_element_by_xpath('/html/body/div[7]/div/div/div/ul/li[6]/button')\n",
    "review_click_button.click()\n",
    "time.sleep(1)"
   ]
  },
  {
   "cell_type": "code",
   "execution_count": null,
   "id": "3b705c1e",
   "metadata": {},
   "outputs": [
    {
     "name": "stdout",
     "output_type": "stream",
     "text": [
      "20\n"
     ]
    },
    {
     "name": "stderr",
     "output_type": "stream",
     "text": [
      "C:\\Users\\revol\\AppData\\Local\\Temp/ipykernel_7368/1808318885.py:7: DeprecationWarning: find_element_by_xpath is deprecated. Please use find_element(by=By.XPATH, value=xpath) instead\n",
      "  class_list = driver.find_element_by_xpath('/html/body/div[1]/div/div/div[2]/div[2]/div/div[1]/article/a')\n"
     ]
    },
    {
     "name": "stdout",
     "output_type": "stream",
     "text": [
      "1\n",
      "1\n"
     ]
    },
    {
     "name": "stderr",
     "output_type": "stream",
     "text": [
      "C:\\Users\\revol\\AppData\\Local\\Temp/ipykernel_7368/1808318885.py:40: DeprecationWarning: find_element_by_xpath is deprecated. Please use find_element(by=By.XPATH, value=xpath) instead\n",
      "  review_comment = driver.find_element_by_xpath(review_xpath)\n",
      "C:\\Users\\revol\\AppData\\Local\\Temp/ipykernel_7368/1808318885.py:41: DeprecationWarning: find_element_by_xpath is deprecated. Please use find_element(by=By.XPATH, value=xpath) instead\n",
      "  score = driver.find_element_by_xpath(score_xpath)\n"
     ]
    },
    {
     "name": "stdout",
     "output_type": "stream",
     "text": [
      "0번째 리뷰의 별점 : 2.3, 리뷰의 내용 : 와대박입니다 여러분 절대 혼자 조립하지 마세요 제가 나름 이런거 조립에는 곧잘하는데 이거 절대 일반 남성분 혼자 절대 못합니다 조립 자체가 어렵다기보다 무게랑 크기때문이기도 하고 거짓말 조금보태서 솜사탕처럼 약합니다 잘끼워지지가 않고 살짝 쳐도 조립한것들이 다 빠져버립니다 제가 몇번이고 해도 그렇습니다 진짜 구매하실분은 필이 고려하세요 디자인빼고 볼거하나도 없습니다 혹여나 이사하실때 못들고 갑니다 들다가 다부서져요ㅋㅋㅋ 이런옷장은 첨입니다 마켓비 대단하네요 중국도 이거보단 잘만들지 싶어요 옷장이 이렇게 안견고하다니 이런걸 파는거 또한 대단합니다 진짜 여러분 꼭 다른걸 사시는걸 추천드립니다 조립 7시간 걸렸습니다 성인남자 혼자 했습니다 아그리고 조립전에도 낱개로도 텅빈깡통입니다 안에가 텅비어 있어서 좀 누르면 그냥 부서집니다 과자마냥 바삭하네요ㅋㅋ 조립하다 조심하면서 했는데도 두군데 내려 앉았습니다 관계자분들은 제발 변명이라도 해보세요\n",
      "1번째 리뷰의 별점 : 4.3, 리뷰의 내용 : 배송은 빨랐고 조립하는 게 되게 체계적으로 돼있어서 놀랐어요. 내부 공간은 넓은데 생각보다는 사용이 불편해서 문짝을 떼버릴까 생각이 됩니다. 유리부분이 예쁠줄 알았는데 생각보다는 조금..? 접착제로 붙이고 하는 부분이 있어서 건강에 안좋을 거 같기도 하고.. 이래저래 아쉬움은 있지만 컵 둘 공간이 없어서 산 거라 그럭저럭 잘 쓰고 있습니다.\n",
      "2번째 리뷰의 별점 : 5.0, 리뷰의 내용 : 조립도 너무 쉽게했고 가격대비 괜찮은 것 같습니다! 🙂\n",
      "3번째 리뷰의 별점 : 1.8, 리뷰의 내용 : 음 겉보기만 이쁩니다 오늘의 집에서 구입한것중 가장 후회해요 이유는 서랍이 잘 안열립니다 안닫힙니다 ㅜㅜ 열고 닫을때 도파민 나와요 바퀴는 달려있는데 서랍이 뻑뻑하다고 해보세요 ㅜㅜ 서랍은 무조건 레일이 부드러운게 최고\n",
      "4번째 리뷰의 별점 : 5.0, 리뷰의 내용 : 예뻐요 조립이 첨엔 어려울까 싶어서 걱정했는데 하다보니 할만해요 ~ 크고 좋으네요 잘쓸게여\n",
      "5번째 리뷰의 별점 : 4.8, 리뷰의 내용 : 설명서도 잘되어있고 부속품들도 세심하게 알아보기 쉽게 너무 잘되어 있어서 조립하는게 쉽고 재밌어요~^^ 가격에 비해 착하고 예쁜상품입니다\n",
      "6번째 리뷰의 별점 : 4.0, 리뷰의 내용 : 배송이..저희집이 엘베없는 4층인데.. 배송전 기사님 전화하셔서는 일층까지만 배송된다고.. 헐 무겁다면서 안올려주신다고.. 그말만듣고 사다리차를 부르려했더니 사다리차 비싸다고 제가5만원에 부르겠다니 4만원만 받고 자기가 올리겠데요. 제품 조립식이란건 잊고..올려온 택배박스 보고는 어이가없어 완제품도 아니고 상자두개를 4만원은 못드리겠다하고 3만원 입금해드렸네요.완짜! 배스뜯고 조립하면서 참고로 전 여자이고 회복중인 환자입니다. 조립도면 펴놓고 조물락거리길 몇시간 ..ㅎ 이렇게 완성되었습니다. 선물받은 그림도 올려두고 티비장식장으로 수납장으로 잘쓰고 있습니다.\n",
      "7번째 리뷰의 별점 : 3.5, 리뷰의 내용 : 일단 수납도 가능하니 지저분했던 곳이 정리되어 좋고 인테리어에도 굳이네요. 조립하는 게 좀 힘들었지만 혼자서 할만했고, 넘 만족해요.\n",
      "8번째 리뷰의 별점 : 5.0, 리뷰의 내용 : 홈카페 용으로 만족스러워요!! 크기도 적당하고 느낌있어요!!!!!!\n",
      "9번째 리뷰의 별점 : 4.5, 리뷰의 내용 : 식탁에 작은장 놓고싶어서 구매했어요 여기저기 놓아도 인테리어는 이쁠것같아요.\n",
      "10번째 리뷰의 별점 : 5.0, 리뷰의 내용 : 밑에 받침대가 무거워서 그런지 무게중심도 잘맞고 엄청 좋아요!\n",
      "11번째 리뷰의 별점 : 5.0, 리뷰의 내용 : 이쁘긴 한데 뭐 두긴 애매한 사이즈? 제가 차나 커피를 안마셔서 그런가 하부장 위가 허전해서 샀는데 딱히 둘만한게 없더라구요 상온보관하는 양념류가 많거나 홈카페 이런게 취향이신 분들만 추천드립니다\n",
      "12번째 리뷰의 별점 : 5.0, 리뷰의 내용 : 뭔가 아쉬운 주방에 분위기를 바꿔줬어요 ! 저렴하게 잘 산 거 같아서 기분 좋습니다 🤎\n",
      "13번째 리뷰의 별점 : 5.0, 리뷰의 내용 : 분위기 있고 이뻐요. 비타민등 숨기기 딱이예요.ㅋ\n",
      "14번째 리뷰의 별점 : 4.5, 리뷰의 내용 : 배송이 기가막히게 빠르게 왔습니다. 내구성은 가격만큼 합니다. 그래도 마음에 듭니다.\n",
      "15번째 리뷰의 별점 : 1.5, 리뷰의 내용 : 아니 이런식으로 주면 어떡해요 진짜; 맞지도 않고 어쩌라는건지 모르겠네요 배송도 문자로 품절이라길래 반품하거나 다른색 선택하라그래서 반품해달라 했다가 다른제품으로 바꿀수 없냐고 물어봤더니 답도 없다가 갑자기 배송지연 떠서 한 2주 걸려서 왔네요 배송지연은 알바아닌데 이런식으로 보낸건 진짜 짜증나요 한두군데도 아니고 ㅋㅋ 이케아에서 살걸 후회돼용ㅎㅎ~\n",
      "16번째 리뷰의 별점 : 4.5, 리뷰의 내용 : 조립할때 조금 헷갈렸는데 그래도 만들어놓고 보니 예뻐서 좋네요 생각보다 포장이 꼼꼼해서 놀랐고 만듬새도 괜찮은 편입니다! 뒤에 나무를 덧대서 벽에 거치할까 해요\n",
      "17번째 리뷰의 별점 : 5.0, 리뷰의 내용 : 약통들 정리해서 넣었더니 깔끔하고 좋아요.. 잘 쓰고 있어요.. 단지 조립제품이라..요건 아쉽네요..ㅎㅎ\n",
      "18번째 리뷰의 별점 : 5.0, 리뷰의 내용 : 여자 혼자 설치하기 쉬워요! 저는 10분 걸렸어요 조립도 쉽고 예쁩니다\n",
      "19번째 리뷰의 별점 : 5.0, 리뷰의 내용 : 예뻐요~ 조립은 조금 힘들었지만 예뻐서 좋습니다\n",
      "20번째 리뷰의 별점 : 3.5, 리뷰의 내용 : 널부러진 것들 윗칸에 넣고 주변이 정리되서 좋네요.\n",
      "21번째 리뷰의 별점 : 5.0, 리뷰의 내용 : 위에 식물두기 좋아요 근데 양쪽문이 약간 짝짝이예여ㅜ\n",
      "22번째 리뷰의 별점 : 5.0, 리뷰의 내용 : 전선때문에 샀는데 많이 들어가고 좋네요 조립할때 좀 힘들었어요\n",
      "23번째 리뷰의 별점 : 4.5, 리뷰의 내용 : 베란다 정원 꾸미기중인데 2단 원목행거를 찾다 찾다 구매했습니다. 사실 중국산에 저렴한 제품이라 견고하거나 퀄리티가 높진 않아요. 그래도 이쁘고 화분 놓기에 좋네요. 가시 조심하세요 전 목장갑 끼고 조립했습니다\n",
      "24번째 리뷰의 별점 : 5.0, 리뷰의 내용 : 삐걱임 소리없이 잘사용하고 잇습니다, 문 자석도 타이트하고 좋아요~\n",
      "25번째 리뷰의 별점 : 4.5, 리뷰의 내용 : 조립이... 정말 손이 많이가는 작업이네요 하지만 완성하니 디자인 예쁘고 수납력 좋아 맘에 듭니다 설명서 천천히 보며 드라이버로만 3시간 정도 걸렸어요 ㅎ 혼자보단 둘이서 조립하세요~~\n",
      "26번째 리뷰의 별점 : 5.0, 리뷰의 내용 : 구매한 소가구중 가장 마음에 들었어요 조립설명도 잘되어 있어서 좋았습니다\n",
      "27번째 리뷰의 별점 : 5.0, 리뷰의 내용 : 배송도 빠르구, 조립도 생각보다 쉬웠어요\n",
      "28번째 리뷰의 별점 : 5.0, 리뷰의 내용 : 조립하면서 크게 힘든점은 없었고 생각보다 사이즈있고 수납도 잘되서 좋네요~\n",
      "29번째 리뷰의 별점 : 5.0, 리뷰의 내용 : 지저분한 약 보관함으로 딱인거 같아요 흠도없고 배송도 빨리 왔구요 조립도 혼자했는데 생각보다 쉬웠어요\n"
     ]
    }
   ],
   "source": [
    "import re\n",
    "count = 0\n",
    "print(len(review_box_list))\n",
    "\n",
    "html = driver.page_source\n",
    "soup = BeautifulSoup(html, \"html.parser\")\n",
    "class_list = driver.find_element_by_xpath('/html/body/div[1]/div/div/div[2]/div[2]/div/div[1]/article/a')\n",
    "try:\n",
    "    #name = review_box.find('span', class_ = 'production-item__header__brand').text\n",
    "    #time.sleep(1)\n",
    "    #header_name = review_box.find('span', class_ = 'production-item__header__name').text\n",
    "    #time.sleep(1)\n",
    "    #price = review_box.find('span', class_ = 'production-item-price__price').text\n",
    "    #time.sleep(1)\n",
    "    #rate = review_box.find('strong', class_ = 'avg').text\n",
    "    #time.sleep(1)\n",
    "    class_list.click()\n",
    "    time.sleep(5)\n",
    "    print(1)\n",
    "except:\n",
    "    print(2)\n",
    "    pass\n",
    "\n",
    "try:\n",
    "    button_css = 'body > div.page > div > div > div.production-selling > div.sticky-container.production-selling-navigation__wrap > div > nav > ol > li:nth-child(2) > a'\n",
    "    review_button = driver.find_element(by = By.CSS_SELECTOR, value = button_css)\n",
    "    review_button.click()\n",
    "    time.sleep(3)\n",
    "    print(1)\n",
    "except:\n",
    "    print(2)\n",
    "    pass\n",
    "try:\n",
    "    for j in range(1000):\n",
    "        review_container = driver.find_elements(by = By.CLASS_NAME, value = 'production-review-item__container')\n",
    "        button_class = driver.find_element(by = By.CLASS_NAME, value = '_2XI47._3I7ex')\n",
    "        for k in range(len(review_container)):\n",
    "            review_xpath = '/html/body/div[1]/div/div/div[2]/div[5]/div/div[1]/div/section[2]/div/div[3]/div['+ str(k+1) + ']/article/p'\n",
    "            score_xpath = '/html/body/div[1]/div/div/div[2]/div[5]/div/div[1]/div/section[2]/div/div[3]/div['+ str(k+1) +']/article/div[1]/div/button/span'\n",
    "            review_comment = driver.find_element_by_xpath(review_xpath)\n",
    "            score = driver.find_element_by_xpath(score_xpath)\n",
    "            #review_text = driver.find_element_by_class_name('production-review-item__description').text\n",
    "            #review_writer = driver.find_element_by_class_name('production-review-item__writer__info__name').text\n",
    "            #review_score = soup.find('span', class_ = 'production-review-item__writer__info__total-star').get_attribute('aria-label')\n",
    "            #review_detail_item = driver.find_element_by_class_name('production-review-item__description').text\n",
    "            print('{0}번째 리뷰의 별점 : {1}, 리뷰의 내용 : {2}'.format((5 * j) + k, re.sub(r'[^0-9.]', '', score.get_attribute('aria-label')), review_comment.text))\n",
    "        button_class.click()\n",
    "        time.sleep(5)\n",
    "    print(1)\n",
    "except:\n",
    "    print(2)\n",
    "    pass\n",
    "    "
   ]
  }
 ],
 "metadata": {
  "kernelspec": {
   "display_name": "Python 3 (ipykernel)",
   "language": "python",
   "name": "python3"
  },
  "language_info": {
   "codemirror_mode": {
    "name": "ipython",
    "version": 3
   },
   "file_extension": ".py",
   "mimetype": "text/x-python",
   "name": "python",
   "nbconvert_exporter": "python",
   "pygments_lexer": "ipython3",
   "version": "3.9.7"
  }
 },
 "nbformat": 4,
 "nbformat_minor": 5
}
